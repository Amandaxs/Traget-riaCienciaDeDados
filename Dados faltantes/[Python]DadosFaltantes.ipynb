{
 "cells": [
  {
   "cell_type": "markdown",
   "id": "02d3fa98",
   "metadata": {},
   "source": [
    "# Dados faltantes\n",
    "\n",
    "\n",
    "**Notebook destinado ao estudo de técnicas para lidar com dados faltantes** "
   ]
  },
  {
   "cell_type": "markdown",
   "id": "eb4a4567",
   "metadata": {},
   "source": [
    "###  Breve explicação sobre o tema:\n",
    "\n"
   ]
  },
  {
   "cell_type": "markdown",
   "id": "df4f6336",
   "metadata": {},
   "source": [
    "Um dos problemas mais comuns que surgem durante as análises de dados, é a presença de valores faltantes. Não ha uma fórmula fechada que nos mostre como tratar a ausência de valores. Existem diversas abordagens e cada uma delas será mais interessante de acordo com os dados e objetivos da análise.\n",
    "\n",
    "O primeiro passo para entender e pensar em estratégias para lidar com missing data é entender o motivo desta ausência, podemos não ter as informações por diferentes motivos, e as algumas vezes, a ausência do dado é uma informação, portanto, antes de pensar em como tratar estes casos precisamos entender os tipos de dados faltantes com os quais podemos esbarrar:\n",
    "\n",
    "**Tipos de dados faltantes**\n",
    "\n",
    "\n",
    "* **MCAR** - Missing Completely Random\n",
    "\n",
    "Dados perdidos de forma completamente aleatória. Neste caso não há justificativa para a ocorrência, o fato do valor estar ausente não tem nada a ver com seu valor ou com outras variáveis.  Como exemplo para este caso, podemos citar dados perdidos durante integração entre sistemas ou na imputação dos dados.\n",
    "\n",
    "* **MAR** - Missing at Random\n",
    "\n",
    "Quando temos dados perdidos de forma aleatória, que dizer que a ausência do valor não tem a ver com o valor em sí, não se sabe se o dado deveria existir ou não. Nestes casos os dados não estão faltantes em todas as observações, geralmente apenas em alguns casos. Sendo assim, pode-se usar os dados observados parar fazer alguma análise preditiva e imputar os valores ausentes.\n",
    " Como exemplo deste tipo de dados faltantes, podemos pensar num questionário onde alguém não viu o campo de idade e o deixou em branco. É possível que com os outros campos preenchidos, possamos estimar a idade deste indivíduo.\n",
    "\n",
    "* **MNAR** - Missing not at Random\n",
    "\n",
    "Pode ser também que a ausência da informação em sí, seja uma informação. Nestes casos a falta de informação pode ter algum motivo especifico. O motivo pode ter a ver com o valor em sí ( Por exemplo, uma pessoa com a renda muito alta não querer revelar este valor, ou pessoas LGBTQIA+ não estarem confortáveis em responder sobre sua sexualidade), ou pode ter a ver com alguma outra causa. Suponhamos que mulheres entre 45 e 55  anos não responderam a uma pergunta específica. \n",
    "Nestes casos os dados faltantes podem trazer alguma informação mesmo que não seja de forma direta. Se removermos estes casos, podemos viciar o nosso grupo de dados. No exemplo das mulheres entre 44 e 55 anos, teríamos uma base que não seria capaz de representar tal grupo.\n",
    "\n",
    "\n",
    "Após entendermos um pouco dos tipos de dados faltantes, podemos olhar para cada caso e traçar a estratégia a ser utilizada. Não podemos definir qual a estratégia é ideal para cada caso, mas devemos tentar entender a estrutura desta ausência de dados e traçar a estratégia que parecer melhor se encaixar no problema, as estratégia vão desde eliminar os valores faltantes até técnicas avançadas para prever os valores faltantes.\n",
    "\n",
    "Vamos explorar a seguir algumas das possíveis maneiras de lidar com estes problemas, mas exitem N outros métodos que podem ser usados.\n"
   ]
  },
  {
   "cell_type": "markdown",
   "id": "9af03a3b",
   "metadata": {},
   "source": [
    "## Carregando pacotes "
   ]
  },
  {
   "cell_type": "code",
   "execution_count": 2,
   "id": "a6c41e63",
   "metadata": {},
   "outputs": [],
   "source": [
    "import pandas as pd\n",
    "import numpy as np\n",
    "#from sklearn.model_selection import train_test_split\n",
    "\n",
    "### Algumas configurações padrão\n",
    "pd.set_option('display.max_columns', None)\n",
    "pd.set_option('display.float_format', lambda x: '%.2f' % x)\n",
    "\n",
    "### Baixar os dados do kaggle\n",
    "from kaggle.api.kaggle_api_extended import KaggleApi\n",
    "## Extrair arquivos Zip\n",
    "from zipfile import ZipFile\n",
    "## Listagem dos diretórios\n",
    "from os import listdir"
   ]
  },
  {
   "cell_type": "markdown",
   "id": "f91bb528",
   "metadata": {},
   "source": [
    "## Base de dados"
   ]
  },
  {
   "cell_type": "markdown",
   "id": "ea9a99d2",
   "metadata": {},
   "source": [
    "**Explicar aqui a base de dados**"
   ]
  },
  {
   "cell_type": "markdown",
   "id": "fdb15a5c",
   "metadata": {},
   "source": [
    "### Lendo a base do Kaggle"
   ]
  },
  {
   "cell_type": "markdown",
   "id": "ab780deb",
   "metadata": {},
   "source": [
    "Abrindo a conexão com o Kaggle, que ja foi previamente configurada. Mas detalhes sobre a conexão direta com o Kaggle podem ser obtidos em: https://python.plainenglish.io/how-to-use-the-kaggle-api-in-python-4d4c812c39c7"
   ]
  },
  {
   "cell_type": "code",
   "execution_count": 3,
   "id": "c3e57a9a",
   "metadata": {},
   "outputs": [],
   "source": [
    "api = KaggleApi()\n",
    "api.authenticate()"
   ]
  },
  {
   "cell_type": "markdown",
   "id": "4177903b",
   "metadata": {},
   "source": [
    "O primeiro passo é baixar o banco de dados. Neste caso optei por baixar todos os arquivos disponíveis."
   ]
  },
  {
   "cell_type": "code",
   "execution_count": 4,
   "id": "58ee1cbb",
   "metadata": {},
   "outputs": [],
   "source": [
    "api.dataset_download_files('anthonypino/melbourne-housing-market')"
   ]
  },
  {
   "cell_type": "markdown",
   "id": "c7ddb554",
   "metadata": {},
   "source": [
    "Após baixar os aquivos, vamos verificar no noss diretorio para saber qual arquivo extrair"
   ]
  },
  {
   "cell_type": "code",
   "execution_count": 5,
   "id": "8e4a95e2",
   "metadata": {},
   "outputs": [
    {
     "data": {
      "text/plain": [
       "['.ipynb_checkpoints',\n",
       " '.Rhistory',\n",
       " 'data',\n",
       " 'melbourne-housing-market.zip',\n",
       " '[Python]DadosFaltantes.ipynb',\n",
       " '[R]DadosFaltantes.Rmd']"
      ]
     },
     "execution_count": 5,
     "metadata": {},
     "output_type": "execute_result"
    }
   ],
   "source": [
    "listdir()"
   ]
  },
  {
   "cell_type": "markdown",
   "id": "3751f5ae",
   "metadata": {},
   "source": [
    "O arquivo baixado foi 'melbourne-housing-market.zip', vamso extrai-lo para dentro da pasta 'data'"
   ]
  },
  {
   "cell_type": "code",
   "execution_count": 6,
   "id": "71f23cce",
   "metadata": {},
   "outputs": [
    {
     "data": {
      "text/plain": [
       "['MELBOURNE_HOUSE_PRICES_LESS.csv',\n",
       " 'Melbourne_housing_FULL.csv',\n",
       " 'NFL Play by Play 2009-2016 (v3).csv',\n",
       " 'NFL Play by Play 2009-2017 (v4).csv',\n",
       " 'NFL Play by Play 2009-2018 (v5).csv']"
      ]
     },
     "execution_count": 6,
     "metadata": {},
     "output_type": "execute_result"
    }
   ],
   "source": [
    "zf = ZipFile('melbourne-housing-market.zip')\n",
    "# Criando uma pasta chadama data e salvando os dados nela\n",
    "zf.extractall('data/') \n",
    "zf.close()\n",
    "listdir('data/')"
   ]
  },
  {
   "cell_type": "markdown",
   "id": "e6039c7e",
   "metadata": {},
   "source": [
    "Após a extarção dos dados, vamos carregar o arquivo desejado."
   ]
  },
  {
   "cell_type": "markdown",
   "id": "2fcf393c",
   "metadata": {},
   "source": [
    "## Lendo os dados"
   ]
  },
  {
   "cell_type": "code",
   "execution_count": 11,
   "id": "630342a0",
   "metadata": {},
   "outputs": [
    {
     "name": "stdout",
     "output_type": "stream",
     "text": [
      "Base de dados importada com sucesso! \n",
      "34857 linhas e 21 colunas\n"
     ]
    }
   ],
   "source": [
    "df = pd.read_csv('data/Melbourne_housing_FULL.csv')\n",
    "print('Base de dados importada com sucesso! \\n{} linhas e {} colunas'.format(df.shape[0], df.shape[1]))"
   ]
  },
  {
   "cell_type": "markdown",
   "id": "22449a20",
   "metadata": {},
   "source": [
    "Inspecionando as primeiras e ultimas linhas da tabela carregada"
   ]
  },
  {
   "cell_type": "code",
   "execution_count": 12,
   "id": "dd6aa91e",
   "metadata": {},
   "outputs": [
    {
     "data": {
      "text/html": [
       "<div>\n",
       "<style scoped>\n",
       "    .dataframe tbody tr th:only-of-type {\n",
       "        vertical-align: middle;\n",
       "    }\n",
       "\n",
       "    .dataframe tbody tr th {\n",
       "        vertical-align: top;\n",
       "    }\n",
       "\n",
       "    .dataframe thead th {\n",
       "        text-align: right;\n",
       "    }\n",
       "</style>\n",
       "<table border=\"1\" class=\"dataframe\">\n",
       "  <thead>\n",
       "    <tr style=\"text-align: right;\">\n",
       "      <th></th>\n",
       "      <th>Suburb</th>\n",
       "      <th>Address</th>\n",
       "      <th>Rooms</th>\n",
       "      <th>Type</th>\n",
       "      <th>Price</th>\n",
       "      <th>Method</th>\n",
       "      <th>SellerG</th>\n",
       "      <th>Date</th>\n",
       "      <th>Distance</th>\n",
       "      <th>Postcode</th>\n",
       "      <th>Bedroom2</th>\n",
       "      <th>Bathroom</th>\n",
       "      <th>Car</th>\n",
       "      <th>Landsize</th>\n",
       "      <th>BuildingArea</th>\n",
       "      <th>YearBuilt</th>\n",
       "      <th>CouncilArea</th>\n",
       "      <th>Lattitude</th>\n",
       "      <th>Longtitude</th>\n",
       "      <th>Regionname</th>\n",
       "      <th>Propertycount</th>\n",
       "    </tr>\n",
       "  </thead>\n",
       "  <tbody>\n",
       "    <tr>\n",
       "      <th>0</th>\n",
       "      <td>Abbotsford</td>\n",
       "      <td>68 Studley St</td>\n",
       "      <td>2</td>\n",
       "      <td>h</td>\n",
       "      <td>NaN</td>\n",
       "      <td>SS</td>\n",
       "      <td>Jellis</td>\n",
       "      <td>3/09/2016</td>\n",
       "      <td>2.50</td>\n",
       "      <td>3067.00</td>\n",
       "      <td>2.00</td>\n",
       "      <td>1.00</td>\n",
       "      <td>1.00</td>\n",
       "      <td>126.00</td>\n",
       "      <td>NaN</td>\n",
       "      <td>NaN</td>\n",
       "      <td>Yarra City Council</td>\n",
       "      <td>-37.80</td>\n",
       "      <td>145.00</td>\n",
       "      <td>Northern Metropolitan</td>\n",
       "      <td>4019.00</td>\n",
       "    </tr>\n",
       "    <tr>\n",
       "      <th>1</th>\n",
       "      <td>Abbotsford</td>\n",
       "      <td>85 Turner St</td>\n",
       "      <td>2</td>\n",
       "      <td>h</td>\n",
       "      <td>1480000.00</td>\n",
       "      <td>S</td>\n",
       "      <td>Biggin</td>\n",
       "      <td>3/12/2016</td>\n",
       "      <td>2.50</td>\n",
       "      <td>3067.00</td>\n",
       "      <td>2.00</td>\n",
       "      <td>1.00</td>\n",
       "      <td>1.00</td>\n",
       "      <td>202.00</td>\n",
       "      <td>NaN</td>\n",
       "      <td>NaN</td>\n",
       "      <td>Yarra City Council</td>\n",
       "      <td>-37.80</td>\n",
       "      <td>145.00</td>\n",
       "      <td>Northern Metropolitan</td>\n",
       "      <td>4019.00</td>\n",
       "    </tr>\n",
       "    <tr>\n",
       "      <th>2</th>\n",
       "      <td>Abbotsford</td>\n",
       "      <td>25 Bloomburg St</td>\n",
       "      <td>2</td>\n",
       "      <td>h</td>\n",
       "      <td>1035000.00</td>\n",
       "      <td>S</td>\n",
       "      <td>Biggin</td>\n",
       "      <td>4/02/2016</td>\n",
       "      <td>2.50</td>\n",
       "      <td>3067.00</td>\n",
       "      <td>2.00</td>\n",
       "      <td>1.00</td>\n",
       "      <td>0.00</td>\n",
       "      <td>156.00</td>\n",
       "      <td>79.00</td>\n",
       "      <td>1900.00</td>\n",
       "      <td>Yarra City Council</td>\n",
       "      <td>-37.81</td>\n",
       "      <td>144.99</td>\n",
       "      <td>Northern Metropolitan</td>\n",
       "      <td>4019.00</td>\n",
       "    </tr>\n",
       "    <tr>\n",
       "      <th>3</th>\n",
       "      <td>Abbotsford</td>\n",
       "      <td>18/659 Victoria St</td>\n",
       "      <td>3</td>\n",
       "      <td>u</td>\n",
       "      <td>NaN</td>\n",
       "      <td>VB</td>\n",
       "      <td>Rounds</td>\n",
       "      <td>4/02/2016</td>\n",
       "      <td>2.50</td>\n",
       "      <td>3067.00</td>\n",
       "      <td>3.00</td>\n",
       "      <td>2.00</td>\n",
       "      <td>1.00</td>\n",
       "      <td>0.00</td>\n",
       "      <td>NaN</td>\n",
       "      <td>NaN</td>\n",
       "      <td>Yarra City Council</td>\n",
       "      <td>-37.81</td>\n",
       "      <td>145.01</td>\n",
       "      <td>Northern Metropolitan</td>\n",
       "      <td>4019.00</td>\n",
       "    </tr>\n",
       "    <tr>\n",
       "      <th>4</th>\n",
       "      <td>Abbotsford</td>\n",
       "      <td>5 Charles St</td>\n",
       "      <td>3</td>\n",
       "      <td>h</td>\n",
       "      <td>1465000.00</td>\n",
       "      <td>SP</td>\n",
       "      <td>Biggin</td>\n",
       "      <td>4/03/2017</td>\n",
       "      <td>2.50</td>\n",
       "      <td>3067.00</td>\n",
       "      <td>3.00</td>\n",
       "      <td>2.00</td>\n",
       "      <td>0.00</td>\n",
       "      <td>134.00</td>\n",
       "      <td>150.00</td>\n",
       "      <td>1900.00</td>\n",
       "      <td>Yarra City Council</td>\n",
       "      <td>-37.81</td>\n",
       "      <td>144.99</td>\n",
       "      <td>Northern Metropolitan</td>\n",
       "      <td>4019.00</td>\n",
       "    </tr>\n",
       "  </tbody>\n",
       "</table>\n",
       "</div>"
      ],
      "text/plain": [
       "       Suburb             Address  Rooms Type      Price Method SellerG  \\\n",
       "0  Abbotsford       68 Studley St      2    h        NaN     SS  Jellis   \n",
       "1  Abbotsford        85 Turner St      2    h 1480000.00      S  Biggin   \n",
       "2  Abbotsford     25 Bloomburg St      2    h 1035000.00      S  Biggin   \n",
       "3  Abbotsford  18/659 Victoria St      3    u        NaN     VB  Rounds   \n",
       "4  Abbotsford        5 Charles St      3    h 1465000.00     SP  Biggin   \n",
       "\n",
       "        Date  Distance  Postcode  Bedroom2  Bathroom  Car  Landsize  \\\n",
       "0  3/09/2016      2.50   3067.00      2.00      1.00 1.00    126.00   \n",
       "1  3/12/2016      2.50   3067.00      2.00      1.00 1.00    202.00   \n",
       "2  4/02/2016      2.50   3067.00      2.00      1.00 0.00    156.00   \n",
       "3  4/02/2016      2.50   3067.00      3.00      2.00 1.00      0.00   \n",
       "4  4/03/2017      2.50   3067.00      3.00      2.00 0.00    134.00   \n",
       "\n",
       "   BuildingArea  YearBuilt         CouncilArea  Lattitude  Longtitude  \\\n",
       "0           NaN        NaN  Yarra City Council     -37.80      145.00   \n",
       "1           NaN        NaN  Yarra City Council     -37.80      145.00   \n",
       "2         79.00    1900.00  Yarra City Council     -37.81      144.99   \n",
       "3           NaN        NaN  Yarra City Council     -37.81      145.01   \n",
       "4        150.00    1900.00  Yarra City Council     -37.81      144.99   \n",
       "\n",
       "              Regionname  Propertycount  \n",
       "0  Northern Metropolitan        4019.00  \n",
       "1  Northern Metropolitan        4019.00  \n",
       "2  Northern Metropolitan        4019.00  \n",
       "3  Northern Metropolitan        4019.00  \n",
       "4  Northern Metropolitan        4019.00  "
      ]
     },
     "execution_count": 12,
     "metadata": {},
     "output_type": "execute_result"
    }
   ],
   "source": [
    "df.head()"
   ]
  },
  {
   "cell_type": "code",
   "execution_count": 13,
   "id": "4fc7c619",
   "metadata": {},
   "outputs": [
    {
     "data": {
      "text/html": [
       "<div>\n",
       "<style scoped>\n",
       "    .dataframe tbody tr th:only-of-type {\n",
       "        vertical-align: middle;\n",
       "    }\n",
       "\n",
       "    .dataframe tbody tr th {\n",
       "        vertical-align: top;\n",
       "    }\n",
       "\n",
       "    .dataframe thead th {\n",
       "        text-align: right;\n",
       "    }\n",
       "</style>\n",
       "<table border=\"1\" class=\"dataframe\">\n",
       "  <thead>\n",
       "    <tr style=\"text-align: right;\">\n",
       "      <th></th>\n",
       "      <th>Suburb</th>\n",
       "      <th>Address</th>\n",
       "      <th>Rooms</th>\n",
       "      <th>Type</th>\n",
       "      <th>Price</th>\n",
       "      <th>Method</th>\n",
       "      <th>SellerG</th>\n",
       "      <th>Date</th>\n",
       "      <th>Distance</th>\n",
       "      <th>Postcode</th>\n",
       "      <th>Bedroom2</th>\n",
       "      <th>Bathroom</th>\n",
       "      <th>Car</th>\n",
       "      <th>Landsize</th>\n",
       "      <th>BuildingArea</th>\n",
       "      <th>YearBuilt</th>\n",
       "      <th>CouncilArea</th>\n",
       "      <th>Lattitude</th>\n",
       "      <th>Longtitude</th>\n",
       "      <th>Regionname</th>\n",
       "      <th>Propertycount</th>\n",
       "    </tr>\n",
       "  </thead>\n",
       "  <tbody>\n",
       "    <tr>\n",
       "      <th>34852</th>\n",
       "      <td>Yarraville</td>\n",
       "      <td>13 Burns St</td>\n",
       "      <td>4</td>\n",
       "      <td>h</td>\n",
       "      <td>1480000.00</td>\n",
       "      <td>PI</td>\n",
       "      <td>Jas</td>\n",
       "      <td>24/02/2018</td>\n",
       "      <td>6.30</td>\n",
       "      <td>3013.00</td>\n",
       "      <td>4.00</td>\n",
       "      <td>1.00</td>\n",
       "      <td>3.00</td>\n",
       "      <td>593.00</td>\n",
       "      <td>NaN</td>\n",
       "      <td>NaN</td>\n",
       "      <td>Maribyrnong City Council</td>\n",
       "      <td>-37.81</td>\n",
       "      <td>144.88</td>\n",
       "      <td>Western Metropolitan</td>\n",
       "      <td>6543.00</td>\n",
       "    </tr>\n",
       "    <tr>\n",
       "      <th>34853</th>\n",
       "      <td>Yarraville</td>\n",
       "      <td>29A Murray St</td>\n",
       "      <td>2</td>\n",
       "      <td>h</td>\n",
       "      <td>888000.00</td>\n",
       "      <td>SP</td>\n",
       "      <td>Sweeney</td>\n",
       "      <td>24/02/2018</td>\n",
       "      <td>6.30</td>\n",
       "      <td>3013.00</td>\n",
       "      <td>2.00</td>\n",
       "      <td>2.00</td>\n",
       "      <td>1.00</td>\n",
       "      <td>98.00</td>\n",
       "      <td>104.00</td>\n",
       "      <td>2018.00</td>\n",
       "      <td>Maribyrnong City Council</td>\n",
       "      <td>-37.82</td>\n",
       "      <td>144.89</td>\n",
       "      <td>Western Metropolitan</td>\n",
       "      <td>6543.00</td>\n",
       "    </tr>\n",
       "    <tr>\n",
       "      <th>34854</th>\n",
       "      <td>Yarraville</td>\n",
       "      <td>147A Severn St</td>\n",
       "      <td>2</td>\n",
       "      <td>t</td>\n",
       "      <td>705000.00</td>\n",
       "      <td>S</td>\n",
       "      <td>Jas</td>\n",
       "      <td>24/02/2018</td>\n",
       "      <td>6.30</td>\n",
       "      <td>3013.00</td>\n",
       "      <td>2.00</td>\n",
       "      <td>1.00</td>\n",
       "      <td>2.00</td>\n",
       "      <td>220.00</td>\n",
       "      <td>120.00</td>\n",
       "      <td>2000.00</td>\n",
       "      <td>Maribyrnong City Council</td>\n",
       "      <td>-37.82</td>\n",
       "      <td>144.88</td>\n",
       "      <td>Western Metropolitan</td>\n",
       "      <td>6543.00</td>\n",
       "    </tr>\n",
       "    <tr>\n",
       "      <th>34855</th>\n",
       "      <td>Yarraville</td>\n",
       "      <td>12/37 Stephen St</td>\n",
       "      <td>3</td>\n",
       "      <td>h</td>\n",
       "      <td>1140000.00</td>\n",
       "      <td>SP</td>\n",
       "      <td>hockingstuart</td>\n",
       "      <td>24/02/2018</td>\n",
       "      <td>6.30</td>\n",
       "      <td>3013.00</td>\n",
       "      <td>NaN</td>\n",
       "      <td>NaN</td>\n",
       "      <td>NaN</td>\n",
       "      <td>NaN</td>\n",
       "      <td>NaN</td>\n",
       "      <td>NaN</td>\n",
       "      <td>Maribyrnong City Council</td>\n",
       "      <td>NaN</td>\n",
       "      <td>NaN</td>\n",
       "      <td>Western Metropolitan</td>\n",
       "      <td>6543.00</td>\n",
       "    </tr>\n",
       "    <tr>\n",
       "      <th>34856</th>\n",
       "      <td>Yarraville</td>\n",
       "      <td>3 Tarrengower St</td>\n",
       "      <td>2</td>\n",
       "      <td>h</td>\n",
       "      <td>1020000.00</td>\n",
       "      <td>PI</td>\n",
       "      <td>RW</td>\n",
       "      <td>24/02/2018</td>\n",
       "      <td>6.30</td>\n",
       "      <td>3013.00</td>\n",
       "      <td>2.00</td>\n",
       "      <td>1.00</td>\n",
       "      <td>0.00</td>\n",
       "      <td>250.00</td>\n",
       "      <td>103.00</td>\n",
       "      <td>1930.00</td>\n",
       "      <td>Maribyrnong City Council</td>\n",
       "      <td>-37.82</td>\n",
       "      <td>144.89</td>\n",
       "      <td>Western Metropolitan</td>\n",
       "      <td>6543.00</td>\n",
       "    </tr>\n",
       "  </tbody>\n",
       "</table>\n",
       "</div>"
      ],
      "text/plain": [
       "           Suburb           Address  Rooms Type      Price Method  \\\n",
       "34852  Yarraville       13 Burns St      4    h 1480000.00     PI   \n",
       "34853  Yarraville     29A Murray St      2    h  888000.00     SP   \n",
       "34854  Yarraville    147A Severn St      2    t  705000.00      S   \n",
       "34855  Yarraville  12/37 Stephen St      3    h 1140000.00     SP   \n",
       "34856  Yarraville  3 Tarrengower St      2    h 1020000.00     PI   \n",
       "\n",
       "             SellerG        Date  Distance  Postcode  Bedroom2  Bathroom  Car  \\\n",
       "34852            Jas  24/02/2018      6.30   3013.00      4.00      1.00 3.00   \n",
       "34853        Sweeney  24/02/2018      6.30   3013.00      2.00      2.00 1.00   \n",
       "34854            Jas  24/02/2018      6.30   3013.00      2.00      1.00 2.00   \n",
       "34855  hockingstuart  24/02/2018      6.30   3013.00       NaN       NaN  NaN   \n",
       "34856             RW  24/02/2018      6.30   3013.00      2.00      1.00 0.00   \n",
       "\n",
       "       Landsize  BuildingArea  YearBuilt               CouncilArea  Lattitude  \\\n",
       "34852    593.00           NaN        NaN  Maribyrnong City Council     -37.81   \n",
       "34853     98.00        104.00    2018.00  Maribyrnong City Council     -37.82   \n",
       "34854    220.00        120.00    2000.00  Maribyrnong City Council     -37.82   \n",
       "34855       NaN           NaN        NaN  Maribyrnong City Council        NaN   \n",
       "34856    250.00        103.00    1930.00  Maribyrnong City Council     -37.82   \n",
       "\n",
       "       Longtitude            Regionname  Propertycount  \n",
       "34852      144.88  Western Metropolitan        6543.00  \n",
       "34853      144.89  Western Metropolitan        6543.00  \n",
       "34854      144.88  Western Metropolitan        6543.00  \n",
       "34855         NaN  Western Metropolitan        6543.00  \n",
       "34856      144.89  Western Metropolitan        6543.00  "
      ]
     },
     "execution_count": 13,
     "metadata": {},
     "output_type": "execute_result"
    }
   ],
   "source": [
    "df.tail()"
   ]
  },
  {
   "cell_type": "markdown",
   "id": "e0bc4c19",
   "metadata": {},
   "source": [
    "## Entendendo os valores faltante"
   ]
  },
  {
   "cell_type": "code",
   "execution_count": 14,
   "id": "83df0499",
   "metadata": {},
   "outputs": [
    {
     "name": "stdout",
     "output_type": "stream",
     "text": [
      "<class 'pandas.core.frame.DataFrame'>\n",
      "RangeIndex: 34857 entries, 0 to 34856\n",
      "Data columns (total 21 columns):\n",
      " #   Column         Non-Null Count  Dtype  \n",
      "---  ------         --------------  -----  \n",
      " 0   Suburb         34857 non-null  object \n",
      " 1   Address        34857 non-null  object \n",
      " 2   Rooms          34857 non-null  int64  \n",
      " 3   Type           34857 non-null  object \n",
      " 4   Price          27247 non-null  float64\n",
      " 5   Method         34857 non-null  object \n",
      " 6   SellerG        34857 non-null  object \n",
      " 7   Date           34857 non-null  object \n",
      " 8   Distance       34856 non-null  float64\n",
      " 9   Postcode       34856 non-null  float64\n",
      " 10  Bedroom2       26640 non-null  float64\n",
      " 11  Bathroom       26631 non-null  float64\n",
      " 12  Car            26129 non-null  float64\n",
      " 13  Landsize       23047 non-null  float64\n",
      " 14  BuildingArea   13742 non-null  float64\n",
      " 15  YearBuilt      15551 non-null  float64\n",
      " 16  CouncilArea    34854 non-null  object \n",
      " 17  Lattitude      26881 non-null  float64\n",
      " 18  Longtitude     26881 non-null  float64\n",
      " 19  Regionname     34854 non-null  object \n",
      " 20  Propertycount  34854 non-null  float64\n",
      "dtypes: float64(12), int64(1), object(8)\n",
      "memory usage: 5.6+ MB\n"
     ]
    }
   ],
   "source": [
    "df.info()"
   ]
  },
  {
   "cell_type": "code",
   "execution_count": 15,
   "id": "1dfe1576",
   "metadata": {},
   "outputs": [
    {
     "data": {
      "text/plain": [
       "Suburb               0\n",
       "Address              0\n",
       "Rooms                0\n",
       "Type                 0\n",
       "Price             7610\n",
       "Method               0\n",
       "SellerG              0\n",
       "Date                 0\n",
       "Distance             1\n",
       "Postcode             1\n",
       "Bedroom2          8217\n",
       "Bathroom          8226\n",
       "Car               8728\n",
       "Landsize         11810\n",
       "BuildingArea     21115\n",
       "YearBuilt        19306\n",
       "CouncilArea          3\n",
       "Lattitude         7976\n",
       "Longtitude        7976\n",
       "Regionname           3\n",
       "Propertycount        3\n",
       "dtype: int64"
      ]
     },
     "execution_count": 15,
     "metadata": {},
     "output_type": "execute_result"
    }
   ],
   "source": [
    "df.isnull().sum(axis = 0)"
   ]
  },
  {
   "cell_type": "markdown",
   "id": "6b05230f",
   "metadata": {},
   "source": [
    "Podemos observar varias colunas com valores faltantes, e cada coluna pode ter um tipo diferente de dado faltante. \n",
    "Vamos utilizar conhecimentos anteiores para definir o tipo de dado faltante em cada coluna, para em seguida traçar as estratégias de tratamento."
   ]
  },
  {
   "cell_type": "code",
   "execution_count": null,
   "id": "e3fbc526",
   "metadata": {},
   "outputs": [],
   "source": []
  },
  {
   "cell_type": "code",
   "execution_count": null,
   "id": "eebd621a",
   "metadata": {},
   "outputs": [],
   "source": []
  },
  {
   "cell_type": "code",
   "execution_count": null,
   "id": "bd470f6a",
   "metadata": {},
   "outputs": [],
   "source": []
  },
  {
   "cell_type": "code",
   "execution_count": null,
   "id": "7edbc63b",
   "metadata": {},
   "outputs": [],
   "source": []
  },
  {
   "cell_type": "markdown",
   "id": "46500e8c",
   "metadata": {},
   "source": [
    "Versão python 3.8.8"
   ]
  }
 ],
 "metadata": {
  "kernelspec": {
   "display_name": "Python 3 (ipykernel)",
   "language": "python",
   "name": "python3"
  },
  "language_info": {
   "codemirror_mode": {
    "name": "ipython",
    "version": 3
   },
   "file_extension": ".py",
   "mimetype": "text/x-python",
   "name": "python",
   "nbconvert_exporter": "python",
   "pygments_lexer": "ipython3",
   "version": "3.8.10"
  },
  "toc": {
   "base_numbering": 1,
   "nav_menu": {},
   "number_sections": true,
   "sideBar": true,
   "skip_h1_title": false,
   "title_cell": "Table of Contents",
   "title_sidebar": "Contents",
   "toc_cell": false,
   "toc_position": {},
   "toc_section_display": true,
   "toc_window_display": false
  }
 },
 "nbformat": 4,
 "nbformat_minor": 5
}
