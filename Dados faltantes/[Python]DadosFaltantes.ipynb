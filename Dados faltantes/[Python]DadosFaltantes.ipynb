{
 "cells": [
  {
   "cell_type": "markdown",
   "id": "02d3fa98",
   "metadata": {},
   "source": [
    "# Dados faltantes\n",
    "\n",
    "\n",
    "**Notebook destinado ao estudo de técnicas para lidar com dados faltantes** "
   ]
  },
  {
   "cell_type": "markdown",
   "id": "eb4a4567",
   "metadata": {},
   "source": [
    "###  Breve explicação sobre o tema:\n",
    "\n"
   ]
  },
  {
   "cell_type": "markdown",
   "id": "df4f6336",
   "metadata": {},
   "source": [
    "Um dos problemas mais comuns que surgem durante as análises de dados, é a presença de valores faltantes. Não ha uma fórmula fechada que nos mostre como tratar a ausência de valores. Existem diversas abordagens e cada uma delas será mais interessante de acordo com os dados e objetivos da análise.\n",
    "\n",
    "O primeiro passo para entender e pensar em estratégias para lidar com missing data é entender o motivo desta ausência, podemos não ter as informações por diferentes motivos, e as algumas vezes, a ausência do dado é uma informação, portanto, antes de pensar em como tratar estes casos precisamos entender os tipos de dados faltantes com os quais podemos esbarrar:\n",
    "\n",
    "**Tipos de dados faltantes**\n",
    "\n",
    "\n",
    "* **MCAR** - Missing Completely Random\n",
    "\n",
    "Dados perdidos de forma completamente aleatória. Neste caso não há justificativa para a ocorrência, o fato do valor estar ausente não tem nada a ver com seu valor ou com outras variáveis.  Como exemplo para este caso, podemos citar dados perdidos durante integração entre sistemas ou na imputação dos dados.\n",
    "\n",
    "* **MAR** - Missing at Random\n",
    "\n",
    "Quando temos dados perdidos de forma aleatória, que dizer que a ausência do valor não tem a ver com o valor em sí, não se sabe se o dado deveria existir ou não. Nestes casos os dados não estão faltantes em todas as observações, geralmente apenas em alguns casos. Sendo assim, pode-se usar os dados observados parar fazer alguma análise preditiva e imputar os valores ausentes.\n",
    " Como exemplo deste tipo de dados faltantes, podemos pensar num questionário onde alguém não viu o campo de idade em branco. É possível que com os outros campos preenchidos, possamos estimar a idade deste indivíduo.\n",
    "\n",
    "* **MNAR** - Missing not at Random\n",
    "\n",
    "Pode ser também que a ausência da informação em sí, seja uma informação. Nestes casos a falta de informação pode ter algum motivo especifico. O motivo pode ter a ver com o valor em sí ( Por exemplo, uma pessoa com a renda muito alta não querer revelar este valor, ou pessoas LGBTQIA+ não estarem confortáveis em responder sobre sua sexualidade), ou pode ter a ver com alguma outra causa. Suponhamos que mulheres entre 45 e 55  anos não responderam a uma pergunta específica. \n",
    "Nestes casos os dados faltantes podem trazer alguma informação mesmo que não seja de forma direta. Se removermos estes casos, podemos viciar o nosso grupo de dados. No exemplo das mulheres entre 44 e 55 anos, teríamos uma base que não seria capaz de representar tal grupo.\n",
    "\n",
    "\n",
    "Após entendermos um pouco dos tipos de dados faltantes, podemos olhar para cada caso e traçar a estratégia a ser utilizada. Não podemos definir qual a estratégia é ideal para cada caso, mas devemos tentar entender a estrutura desta ausência de dados e traçar a estratégia que parecer melhor se encaixar no problema, as estratégia vão desde eliminar os valores faltantes até técnicas avançadas para prever os valores faltantes.\n",
    "\n",
    "Vamos explorar a seguir algumas das possíveis maneiras de lidar com estes problemas, mas exitem N outros métodos que podem ser usados.\n"
   ]
  },
  {
   "cell_type": "markdown",
   "id": "9af03a3b",
   "metadata": {},
   "source": [
    "## Carregando pacotes"
   ]
  },
  {
   "cell_type": "code",
   "execution_count": 1,
   "id": "a6c41e63",
   "metadata": {},
   "outputs": [],
   "source": [
    "import pandas as pd\n",
    "import numpy as np\n",
    "from sklearn.model_selection import train_test_split\n",
    "\n",
    "### Algumas configurações padrão\n",
    "pd.set_option('display.max_columns', None)\n",
    "pd.set_option('display.float_format', lambda x: '%.2f' % x)"
   ]
  },
  {
   "cell_type": "code",
   "execution_count": null,
   "id": "c3e57a9a",
   "metadata": {},
   "outputs": [],
   "source": []
  },
  {
   "cell_type": "code",
   "execution_count": null,
   "id": "58ee1cbb",
   "metadata": {},
   "outputs": [],
   "source": []
  },
  {
   "cell_type": "code",
   "execution_count": null,
   "id": "cfc5e2c2",
   "metadata": {},
   "outputs": [],
   "source": []
  },
  {
   "cell_type": "code",
   "execution_count": null,
   "id": "630342a0",
   "metadata": {},
   "outputs": [],
   "source": []
  },
  {
   "cell_type": "markdown",
   "id": "46500e8c",
   "metadata": {},
   "source": [
    "Versão python 3.8.3"
   ]
  }
 ],
 "metadata": {
  "kernelspec": {
   "display_name": "Python 3",
   "language": "python",
   "name": "python3"
  },
  "language_info": {
   "codemirror_mode": {
    "name": "ipython",
    "version": 3
   },
   "file_extension": ".py",
   "mimetype": "text/x-python",
   "name": "python",
   "nbconvert_exporter": "python",
   "pygments_lexer": "ipython3",
   "version": "3.8.8"
  },
  "toc": {
   "base_numbering": 1,
   "nav_menu": {},
   "number_sections": true,
   "sideBar": true,
   "skip_h1_title": false,
   "title_cell": "Table of Contents",
   "title_sidebar": "Contents",
   "toc_cell": false,
   "toc_position": {},
   "toc_section_display": true,
   "toc_window_display": false
  }
 },
 "nbformat": 4,
 "nbformat_minor": 5
}
